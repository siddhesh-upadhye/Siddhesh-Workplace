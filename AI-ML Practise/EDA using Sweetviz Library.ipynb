{
 "cells": [
  {
   "cell_type": "code",
   "execution_count": 1,
   "metadata": {},
   "outputs": [],
   "source": [
    "import pandas as pd"
   ]
  },
  {
   "cell_type": "code",
   "execution_count": 2,
   "metadata": {},
   "outputs": [],
   "source": [
    "import sweetviz as sv"
   ]
  },
  {
   "cell_type": "code",
   "execution_count": 4,
   "metadata": {},
   "outputs": [
    {
     "data": {
      "text/html": [
       "<div>\n",
       "<style scoped>\n",
       "    .dataframe tbody tr th:only-of-type {\n",
       "        vertical-align: middle;\n",
       "    }\n",
       "\n",
       "    .dataframe tbody tr th {\n",
       "        vertical-align: top;\n",
       "    }\n",
       "\n",
       "    .dataframe thead th {\n",
       "        text-align: right;\n",
       "    }\n",
       "</style>\n",
       "<table border=\"1\" class=\"dataframe\">\n",
       "  <thead>\n",
       "    <tr style=\"text-align: right;\">\n",
       "      <th></th>\n",
       "      <th>VIN (1-10)</th>\n",
       "      <th>County</th>\n",
       "      <th>City</th>\n",
       "      <th>State</th>\n",
       "      <th>ZIP Code</th>\n",
       "      <th>Model Year</th>\n",
       "      <th>Make</th>\n",
       "      <th>Model</th>\n",
       "      <th>Electric Vehicle Type</th>\n",
       "      <th>Clean Alternative Fuel Vehicle (CAFV) Eligibility</th>\n",
       "      <th>Electric Range</th>\n",
       "      <th>Base MSRP</th>\n",
       "      <th>Legislative District</th>\n",
       "      <th>DOL Vehicle ID</th>\n",
       "      <th>Vehicle Location</th>\n",
       "    </tr>\n",
       "  </thead>\n",
       "  <tbody>\n",
       "    <tr>\n",
       "      <th>0</th>\n",
       "      <td>1N4BZ0CP4G</td>\n",
       "      <td>King</td>\n",
       "      <td>VASHON</td>\n",
       "      <td>WA</td>\n",
       "      <td>98070</td>\n",
       "      <td>2016</td>\n",
       "      <td>NISSAN</td>\n",
       "      <td>LEAF</td>\n",
       "      <td>Battery Electric Vehicle (BEV)</td>\n",
       "      <td>Clean Alternative Fuel Vehicle Eligible</td>\n",
       "      <td>84</td>\n",
       "      <td>29010</td>\n",
       "      <td>34.0</td>\n",
       "      <td>150297220</td>\n",
       "      <td>POINT (-122.469161 47.415443)</td>\n",
       "    </tr>\n",
       "    <tr>\n",
       "      <th>1</th>\n",
       "      <td>1N4BZ0CP4G</td>\n",
       "      <td>Snohomish</td>\n",
       "      <td>MILL CREEK</td>\n",
       "      <td>WA</td>\n",
       "      <td>98012</td>\n",
       "      <td>2016</td>\n",
       "      <td>NISSAN</td>\n",
       "      <td>LEAF</td>\n",
       "      <td>Battery Electric Vehicle (BEV)</td>\n",
       "      <td>Clean Alternative Fuel Vehicle Eligible</td>\n",
       "      <td>84</td>\n",
       "      <td>29010</td>\n",
       "      <td>44.0</td>\n",
       "      <td>157035826</td>\n",
       "      <td>POINT (-122.20151499999999 47.843376)</td>\n",
       "    </tr>\n",
       "    <tr>\n",
       "      <th>2</th>\n",
       "      <td>1N4AZ0CP7D</td>\n",
       "      <td>King</td>\n",
       "      <td>SEATTLE</td>\n",
       "      <td>WA</td>\n",
       "      <td>98115</td>\n",
       "      <td>2013</td>\n",
       "      <td>NISSAN</td>\n",
       "      <td>LEAF</td>\n",
       "      <td>Battery Electric Vehicle (BEV)</td>\n",
       "      <td>Clean Alternative Fuel Vehicle Eligible</td>\n",
       "      <td>75</td>\n",
       "      <td>28800</td>\n",
       "      <td>46.0</td>\n",
       "      <td>172368493</td>\n",
       "      <td>POINT (-122.297534 47.685291)</td>\n",
       "    </tr>\n",
       "    <tr>\n",
       "      <th>3</th>\n",
       "      <td>1N4BZ0CP5G</td>\n",
       "      <td>King</td>\n",
       "      <td>REDMOND</td>\n",
       "      <td>WA</td>\n",
       "      <td>98053</td>\n",
       "      <td>2016</td>\n",
       "      <td>NISSAN</td>\n",
       "      <td>LEAF</td>\n",
       "      <td>Battery Electric Vehicle (BEV)</td>\n",
       "      <td>Clean Alternative Fuel Vehicle Eligible</td>\n",
       "      <td>84</td>\n",
       "      <td>29010</td>\n",
       "      <td>45.0</td>\n",
       "      <td>209103016</td>\n",
       "      <td>POINT (-122.024951 47.670286)</td>\n",
       "    </tr>\n",
       "    <tr>\n",
       "      <th>4</th>\n",
       "      <td>1N4BZ0CP1H</td>\n",
       "      <td>Pierce</td>\n",
       "      <td>TACOMA</td>\n",
       "      <td>WA</td>\n",
       "      <td>98403</td>\n",
       "      <td>2017</td>\n",
       "      <td>NISSAN</td>\n",
       "      <td>LEAF</td>\n",
       "      <td>Battery Electric Vehicle (BEV)</td>\n",
       "      <td>Clean Alternative Fuel Vehicle Eligible</td>\n",
       "      <td>107</td>\n",
       "      <td>30680</td>\n",
       "      <td>27.0</td>\n",
       "      <td>193838172</td>\n",
       "      <td>POINT (-122.45971600000001 47.265523)</td>\n",
       "    </tr>\n",
       "  </tbody>\n",
       "</table>\n",
       "</div>"
      ],
      "text/plain": [
       "   VIN (1-10)     County        City State  ZIP Code  Model Year    Make  \\\n",
       "0  1N4BZ0CP4G       King      VASHON    WA     98070        2016  NISSAN   \n",
       "1  1N4BZ0CP4G  Snohomish  MILL CREEK    WA     98012        2016  NISSAN   \n",
       "2  1N4AZ0CP7D       King     SEATTLE    WA     98115        2013  NISSAN   \n",
       "3  1N4BZ0CP5G       King     REDMOND    WA     98053        2016  NISSAN   \n",
       "4  1N4BZ0CP1H     Pierce      TACOMA    WA     98403        2017  NISSAN   \n",
       "\n",
       "  Model           Electric Vehicle Type  \\\n",
       "0  LEAF  Battery Electric Vehicle (BEV)   \n",
       "1  LEAF  Battery Electric Vehicle (BEV)   \n",
       "2  LEAF  Battery Electric Vehicle (BEV)   \n",
       "3  LEAF  Battery Electric Vehicle (BEV)   \n",
       "4  LEAF  Battery Electric Vehicle (BEV)   \n",
       "\n",
       "  Clean Alternative Fuel Vehicle (CAFV) Eligibility  Electric Range  \\\n",
       "0           Clean Alternative Fuel Vehicle Eligible              84   \n",
       "1           Clean Alternative Fuel Vehicle Eligible              84   \n",
       "2           Clean Alternative Fuel Vehicle Eligible              75   \n",
       "3           Clean Alternative Fuel Vehicle Eligible              84   \n",
       "4           Clean Alternative Fuel Vehicle Eligible             107   \n",
       "\n",
       "   Base MSRP  Legislative District  DOL Vehicle ID  \\\n",
       "0      29010                  34.0       150297220   \n",
       "1      29010                  44.0       157035826   \n",
       "2      28800                  46.0       172368493   \n",
       "3      29010                  45.0       209103016   \n",
       "4      30680                  27.0       193838172   \n",
       "\n",
       "                        Vehicle Location  \n",
       "0          POINT (-122.469161 47.415443)  \n",
       "1  POINT (-122.20151499999999 47.843376)  \n",
       "2          POINT (-122.297534 47.685291)  \n",
       "3          POINT (-122.024951 47.670286)  \n",
       "4  POINT (-122.45971600000001 47.265523)  "
      ]
     },
     "execution_count": 4,
     "metadata": {},
     "output_type": "execute_result"
    }
   ],
   "source": [
    "df=pd.read_csv('D:\\AI-ML\\Python Project\\Electric_Vehicle_Population_Data.csv')\n",
    "df.head()"
   ]
  },
  {
   "cell_type": "code",
   "execution_count": 5,
   "metadata": {},
   "outputs": [
    {
     "data": {
      "text/plain": [
       "(67925, 15)"
      ]
     },
     "execution_count": 5,
     "metadata": {},
     "output_type": "execute_result"
    }
   ],
   "source": [
    "df.shape"
   ]
  },
  {
   "cell_type": "code",
   "execution_count": 8,
   "metadata": {},
   "outputs": [
    {
     "data": {
      "text/html": [
       "<div>\n",
       "<style scoped>\n",
       "    .dataframe tbody tr th:only-of-type {\n",
       "        vertical-align: middle;\n",
       "    }\n",
       "\n",
       "    .dataframe tbody tr th {\n",
       "        vertical-align: top;\n",
       "    }\n",
       "\n",
       "    .dataframe thead th {\n",
       "        text-align: right;\n",
       "    }\n",
       "</style>\n",
       "<table border=\"1\" class=\"dataframe\">\n",
       "  <thead>\n",
       "    <tr style=\"text-align: right;\">\n",
       "      <th></th>\n",
       "      <th>ZIP Code</th>\n",
       "      <th>Model Year</th>\n",
       "      <th>Electric Range</th>\n",
       "      <th>Base MSRP</th>\n",
       "      <th>Legislative District</th>\n",
       "      <th>DOL Vehicle ID</th>\n",
       "    </tr>\n",
       "  </thead>\n",
       "  <tbody>\n",
       "    <tr>\n",
       "      <th>count</th>\n",
       "      <td>67925.000000</td>\n",
       "      <td>67925.000000</td>\n",
       "      <td>67925.000000</td>\n",
       "      <td>67925.000000</td>\n",
       "      <td>67885.000000</td>\n",
       "      <td>6.792500e+04</td>\n",
       "    </tr>\n",
       "    <tr>\n",
       "      <th>mean</th>\n",
       "      <td>98221.036393</td>\n",
       "      <td>2017.218668</td>\n",
       "      <td>140.648789</td>\n",
       "      <td>33019.295326</td>\n",
       "      <td>30.342123</td>\n",
       "      <td>2.072633e+08</td>\n",
       "    </tr>\n",
       "    <tr>\n",
       "      <th>std</th>\n",
       "      <td>1486.644114</td>\n",
       "      <td>2.457672</td>\n",
       "      <td>99.325695</td>\n",
       "      <td>22362.279819</td>\n",
       "      <td>14.614884</td>\n",
       "      <td>1.261085e+08</td>\n",
       "    </tr>\n",
       "    <tr>\n",
       "      <th>min</th>\n",
       "      <td>320.000000</td>\n",
       "      <td>1993.000000</td>\n",
       "      <td>0.000000</td>\n",
       "      <td>0.000000</td>\n",
       "      <td>1.000000</td>\n",
       "      <td>4.385000e+03</td>\n",
       "    </tr>\n",
       "    <tr>\n",
       "      <th>25%</th>\n",
       "      <td>98052.000000</td>\n",
       "      <td>2016.000000</td>\n",
       "      <td>38.000000</td>\n",
       "      <td>28800.000000</td>\n",
       "      <td>20.000000</td>\n",
       "      <td>1.239379e+08</td>\n",
       "    </tr>\n",
       "    <tr>\n",
       "      <th>50%</th>\n",
       "      <td>98118.000000</td>\n",
       "      <td>2018.000000</td>\n",
       "      <td>149.000000</td>\n",
       "      <td>33520.000000</td>\n",
       "      <td>35.000000</td>\n",
       "      <td>1.733881e+08</td>\n",
       "    </tr>\n",
       "    <tr>\n",
       "      <th>75%</th>\n",
       "      <td>98366.000000</td>\n",
       "      <td>2019.000000</td>\n",
       "      <td>220.000000</td>\n",
       "      <td>37495.000000</td>\n",
       "      <td>43.000000</td>\n",
       "      <td>2.757715e+08</td>\n",
       "    </tr>\n",
       "    <tr>\n",
       "      <th>max</th>\n",
       "      <td>99403.000000</td>\n",
       "      <td>2021.000000</td>\n",
       "      <td>337.000000</td>\n",
       "      <td>845000.000000</td>\n",
       "      <td>49.000000</td>\n",
       "      <td>4.792548e+08</td>\n",
       "    </tr>\n",
       "  </tbody>\n",
       "</table>\n",
       "</div>"
      ],
      "text/plain": [
       "           ZIP Code    Model Year  Electric Range      Base MSRP  \\\n",
       "count  67925.000000  67925.000000    67925.000000   67925.000000   \n",
       "mean   98221.036393   2017.218668      140.648789   33019.295326   \n",
       "std     1486.644114      2.457672       99.325695   22362.279819   \n",
       "min      320.000000   1993.000000        0.000000       0.000000   \n",
       "25%    98052.000000   2016.000000       38.000000   28800.000000   \n",
       "50%    98118.000000   2018.000000      149.000000   33520.000000   \n",
       "75%    98366.000000   2019.000000      220.000000   37495.000000   \n",
       "max    99403.000000   2021.000000      337.000000  845000.000000   \n",
       "\n",
       "       Legislative District  DOL Vehicle ID  \n",
       "count          67885.000000    6.792500e+04  \n",
       "mean              30.342123    2.072633e+08  \n",
       "std               14.614884    1.261085e+08  \n",
       "min                1.000000    4.385000e+03  \n",
       "25%               20.000000    1.239379e+08  \n",
       "50%               35.000000    1.733881e+08  \n",
       "75%               43.000000    2.757715e+08  \n",
       "max               49.000000    4.792548e+08  "
      ]
     },
     "execution_count": 8,
     "metadata": {},
     "output_type": "execute_result"
    }
   ],
   "source": [
    "df.describe()"
   ]
  },
  {
   "cell_type": "code",
   "execution_count": 9,
   "metadata": {},
   "outputs": [
    {
     "data": {
      "application/vnd.jupyter.widget-view+json": {
       "model_id": "6ba4ca2134814cb5ae5d3d1557c438b2",
       "version_major": 2,
       "version_minor": 0
      },
      "text/plain": [
       "                                             |          | [  0%]   00:00 -> (? left)"
      ]
     },
     "metadata": {},
     "output_type": "display_data"
    }
   ],
   "source": [
    "ev_report=sv.analyze(df)"
   ]
  },
  {
   "cell_type": "code",
   "execution_count": 11,
   "metadata": {},
   "outputs": [
    {
     "name": "stdout",
     "output_type": "stream",
     "text": [
      "Report ev_report.html was generated! NOTEBOOK/COLAB USERS: the web browser MAY not pop up, regardless, the report IS saved in your notebook/colab files.\n"
     ]
    }
   ],
   "source": [
    "ev_report.show_html('ev_report.html')"
   ]
  },
  {
   "cell_type": "code",
   "execution_count": null,
   "metadata": {},
   "outputs": [],
   "source": []
  }
 ],
 "metadata": {
  "kernelspec": {
   "display_name": "Python 3",
   "language": "python",
   "name": "python3"
  },
  "language_info": {
   "codemirror_mode": {
    "name": "ipython",
    "version": 3
   },
   "file_extension": ".py",
   "mimetype": "text/x-python",
   "name": "python",
   "nbconvert_exporter": "python",
   "pygments_lexer": "ipython3",
   "version": "3.7.6"
  }
 },
 "nbformat": 4,
 "nbformat_minor": 4
}
